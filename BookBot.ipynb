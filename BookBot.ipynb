{
 "cells": [
  {
   "cell_type": "markdown",
   "id": "dd824735",
   "metadata": {},
   "source": [
    "### Import the Necessary Libraries"
   ]
  },
  {
   "cell_type": "code",
   "execution_count": 1,
   "id": "e1fa249e",
   "metadata": {},
   "outputs": [
    {
     "name": "stderr",
     "output_type": "stream",
     "text": [
      "D:\\anaconda3\\lib\\site-packages\\scipy\\__init__.py:146: UserWarning: A NumPy version >=1.16.5 and <1.23.0 is required for this version of SciPy (detected version 1.23.4\n",
      "  warnings.warn(f\"A NumPy version >={np_minversion} and <{np_maxversion}\"\n",
      "[nltk_data] Downloading package punkt to C:\\Users\\Anthony\n",
      "[nltk_data]     Lam\\AppData\\Roaming\\nltk_data...\n",
      "[nltk_data]   Package punkt is already up-to-date!\n"
     ]
    },
    {
     "data": {
      "text/plain": [
       "True"
      ]
     },
     "execution_count": 1,
     "metadata": {},
     "output_type": "execute_result"
    }
   ],
   "source": [
    "import numpy as np\n",
    "import pandas as pd\n",
    "import os\n",
    "import re\n",
    "import string\n",
    "import nltk\n",
    "from nltk.tokenize import word_tokenize\n",
    "from nltk.corpus import stopwords\n",
    "import random\n",
    "\n",
    "nltk.download('punkt')"
   ]
  },
  {
   "cell_type": "markdown",
   "id": "87a00725",
   "metadata": {},
   "source": [
    "# Data Collection: Reading the Dostoevsky Novels"
   ]
  },
  {
   "cell_type": "code",
   "execution_count": 2,
   "id": "3eea2cfa",
   "metadata": {},
   "outputs": [
    {
     "name": "stdout",
     "output_type": "stream",
     "text": [
      "Number of lines =  869\n"
     ]
    }
   ],
   "source": [
    "story_path = \"./Dostoevsky/\"\n",
    "\n",
    "def read_all_chapters(story_path):\n",
    "    txt = []\n",
    "    for _, _, files in os.walk(story_path):\n",
    "        for file in files:\n",
    "            with open(story_path+file, \"r\", encoding='utf-8') as f:\n",
    "                for line in f:\n",
    "                    line = line.strip()\n",
    "                    if line != '':\n",
    "                        txt.append(line)\n",
    "\n",
    "    return txt\n",
    "\n",
    "stories = read_all_chapters(story_path)\n",
    "print(\"Number of lines = \", len(stories))"
   ]
  },
  {
   "cell_type": "markdown",
   "id": "e7834356",
   "metadata": {},
   "source": [
    "# Data Cleaning/Wrangling: Cleaning the Texts"
   ]
  },
  {
   "cell_type": "code",
   "execution_count": 3,
   "id": "a4c05657",
   "metadata": {},
   "outputs": [
    {
     "name": "stdout",
     "output_type": "stream",
     "text": [
      "Number of words =  63365\n"
     ]
    }
   ],
   "source": [
    "def clean_txt(txt):\n",
    "    cleaned_txt = []\n",
    "    for line in txt:\n",
    "        line = line.lower()\n",
    "        line = re.sub(r\"[,.\\\"\\'!@#$%^&*(){}?/;`~:<>+=-\\\\]\", \"\", line)\n",
    "        tokens = word_tokenize(line)\n",
    "        words = [word for word in tokens if word.isalpha()]\n",
    "        cleaned_txt += words\n",
    "    return cleaned_txt\n",
    "\n",
    "cleaned_stories = clean_txt(stories)\n",
    "print(\"Number of words = \", len(cleaned_stories))"
   ]
  },
  {
   "cell_type": "markdown",
   "id": "7140bda8",
   "metadata": {},
   "source": [
    "# Model Building: Creating the Markov Model"
   ]
  },
  {
   "cell_type": "code",
   "execution_count": 4,
   "id": "230a67cf",
   "metadata": {},
   "outputs": [
    {
     "name": "stdout",
     "output_type": "stream",
     "text": [
      "Number of states =  32760\n"
     ]
    }
   ],
   "source": [
    "def make_markov_model(cleaned_stories, n_gram=2):\n",
    "    markov_model = {}\n",
    "    for i in range(len(cleaned_stories)-n_gram-1):\n",
    "        curr_state = \"\"\n",
    "        next_state = \"\"\n",
    "        for j in range(0, n_gram):\n",
    "            curr_state += cleaned_stories[i+j] + \" \"\n",
    "            next_state += cleaned_stories[i+j+n_gram] + \" \"\n",
    "        curr_state = curr_state[:-1]\n",
    "        next_state = next_state[:-1]\n",
    "        if curr_state not in markov_model:\n",
    "            markov_model[curr_state] = {}\n",
    "            markov_model[curr_state][next_state] = 1\n",
    "        else:\n",
    "            if next_state in markov_model[curr_state]:\n",
    "                markov_model[curr_state][next_state] += 1\n",
    "            else:\n",
    "                markov_model[curr_state][next_state] = 1\n",
    "    \n",
    "    for curr_state, transition in markov_model.items():\n",
    "        total = sum(transition.values())\n",
    "        for state, count in transition.items():\n",
    "            markov_model[curr_state][state] = count/total\n",
    "            \n",
    "    return markov_model\n",
    "\n",
    "markov_model = make_markov_model(cleaned_stories)\n",
    "print(\"Number of states = \", len(markov_model.keys()))"
   ]
  },
  {
   "cell_type": "markdown",
   "id": "9759ca76",
   "metadata": {},
   "source": [
    "# Production: Generating a Dostoevsky Story!"
   ]
  },
  {
   "cell_type": "code",
   "execution_count": 5,
   "id": "472d269d",
   "metadata": {},
   "outputs": [
    {
     "name": "stdout",
     "output_type": "stream",
     "text": [
      "i am the more persuaded of that suspicion if one must live one had better live in a minute you do not forsake me because i am an old schoolfellow of his success as a lieutenant and of course the devil only knows what habit can do with your wishes and whether you go as early as possible morning and gave it to me that you are sad and dreary i have been in the street it was just as any coarse peasant but as a whole with everything that he is here and everything had been taken by another already when nothing was mine when in fact not a if you catch anything you may have sincerity but you are evidently well satisfied with their husbands just because they have received the letter have you been waiting long trudolyubov inquired i arrived at nine oclock in the nevsky went to the point of bliss that i should bear you a grudge nastenka that you almost loved me only that he seems like that well if you havent why do you suppose he really loves you cherishes you never leaves you there is happiness in such a mood at the reins as soon as may be an idle question which is happiness in such a mood at the door one hand behind his back and his eyes fixed upon me again and again present himself before me in order to prove to you for it afterwards so you give it a faint voice though i was so happy in reality that would be better able to come suppose he is because you have not even spite i began to have not even guess that for yourself some time honour bright for you out of spite spite of course i cant do that they have slandered our romantics taking them for the same position as it stood the day after at the latest you will be worth less i am certain he feels that when this absurd history i sat down beside her and took pleasure in being so long over dying however you beg you wont fall in love with me i want to know nastenka what our hero that is the wet snow was falling and beating with the normal fundamental laws of our free joking apart there may even be genuinely touched and penitent i used to stroll along the same side of the question one would learn evil from them and tell tales of one another you fight shy of us more or less we are so kind that i should claim respect for doing so i will say perhaps that is just as great a benefit to man and to cut off out of gratitude if things could be so i said this i love thought monsieur zverkov zverkov got up from her chair with an irritability that threatened an explosion didnt you let go of my hand and looked at them eyes that look as before the waiters i sat down again she looked at me uneasily for some unknown reason he despised me beyond all measure and looked at them and felt intense enjoyment when i was fifteen and now you would see me in a palace of crystal it is unthinkable suffering means doubt negation and what is called leave us you will not smile or be vexed at these impatient lines remember they are not candid moans they are malignant moans and the malignancy is the ungrateful biped but that was most bitter and most humiliating for me i thought and thought that everything was astir and moving everything was due to our realistic journalists and critics of that day was bright and clear not one thing not one word to one another in one instant she becomes as though such a luckless man as me that in my fury i did lay it down at once and looked at her she left off eating and began looking at her fixedly trembling with impatience and boasted of the future for in the least expected such a night as is only lacerating and harassing himself and others for nothing he knows that he could scarcely spare a glance for anything about him he left off at once à propos of nothing and at that party there had been the student who had danced with her and she hadnt made up her mind to do anything i am old only dont you go away thats what ill do i am an old from stupidity and moreover there is my friend nastenka one deceives oneself and unconsciously believes that there is of the poet first unrecognized then crowned with laurel anything but the chief point about my spite why the whole day by the unexpected visit of a friend for instance want to tell you what write a letter with some friends at the hôtel de paris i had attained my effect i was suddenly kindled and flamed up in my place fekla saw that grandmother was talkative and she said taking my part you are not the people for me when i was most conscious that that day i had an influence over you and was only capable of thinking of promotion he was awfully fond of reading aloud in the evenings in a most flagrant manner and then go away to pskov listen he said and glanced at me while you are so nice then she wrung my hand its my fault for having spoken of it all and with that object i had kept up with perfect certainty are there not some which not only have not been treated like that even the best thing would be not to go up to me still more closely still more tremulously i could hardly breathe but several minutes at a time without feeling an irresistible desire to plunge into society to plunge into society to plunge into society meant to go but at this point there \n"
     ]
    }
   ],
   "source": [
    "def generate_story(markov_model, limit=100, start='i am'):\n",
    "    n = 0\n",
    "    curr_state = start\n",
    "    next_state = None\n",
    "    story = \"\"\n",
    "    story += curr_state + \" \"\n",
    "    while n < limit:\n",
    "        next_state = random.choices(list(markov_model[curr_state].keys()),\n",
    "                                    list(markov_model[curr_state].values()))\n",
    "        curr_state = next_state[0]\n",
    "        story += curr_state + \" \"\n",
    "        n+=1\n",
    "    return story\n",
    "\n",
    "print(generate_story(markov_model, limit=500))"
   ]
  }
 ],
 "metadata": {
  "kernelspec": {
   "display_name": "Python 3 (ipykernel)",
   "language": "python",
   "name": "python3"
  },
  "language_info": {
   "codemirror_mode": {
    "name": "ipython",
    "version": 3
   },
   "file_extension": ".py",
   "mimetype": "text/x-python",
   "name": "python",
   "nbconvert_exporter": "python",
   "pygments_lexer": "ipython3",
   "version": "3.9.7"
  }
 },
 "nbformat": 4,
 "nbformat_minor": 5
}
